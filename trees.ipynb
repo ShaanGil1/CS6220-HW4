{
 "cells": [
  {
   "cell_type": "code",
   "execution_count": null,
   "metadata": {},
   "outputs": [],
   "source": [
    "# Import necessary libraries\n",
    "import pandas as pd\n",
    "from sklearn.model_selection import train_test_split\n",
    "from sklearn.ensemble import RandomForestClassifier\n",
    "from sklearn.tree import DecisionTreeClassifier\n",
    "from sklearn.metrics import accuracy_score, classification_report\n",
    "import numpy as np\n",
    "import time\n",
    "import matplotlib.pyplot as plt"
   ]
  },
  {
   "cell_type": "code",
   "execution_count": null,
   "metadata": {},
   "outputs": [],
   "source": [
    "# Load the datasets in to a pandas dataframe\n",
    "features = pd.read_csv(\"Credit_card.csv\")\n",
    "labels = pd.read_csv(\"Credit_card_label.csv\")\n",
    "labels = labels[\"label\"]\n",
    "features.head(10)"
   ]
  },
  {
   "cell_type": "code",
   "execution_count": null,
   "metadata": {},
   "outputs": [],
   "source": [
    "# Data has lots of NaN values so we need to replaces these so that that we can work with the data\n",
    "# Fill \"NaN\" with -1 to indicate that there was no given value\n",
    "features = features.fillna(-1)"
   ]
  },
  {
   "cell_type": "code",
   "execution_count": null,
   "metadata": {},
   "outputs": [],
   "source": [
    "import pandas as pd\n",
    "\n",
    "# Assuming 'features' is your DataFrame\n",
    "# Create a dictionary to store the ranges for each column\n",
    "value_ranges = {}\n",
    "\n",
    "for column in features.columns:\n",
    "    column_data = features[column]\n",
    "    if type(column_data[18]) == str:\n",
    "        print(column)\n",
    "        print(column_data.unique())\n",
    "    else:\n",
    "        print(column)\n",
    "        print(max(column_data.unique()), min(column_data.unique()))"
   ]
  },
  {
   "cell_type": "code",
   "execution_count": null,
   "metadata": {},
   "outputs": [],
   "source": [
    "# Make all non numeric values map to a numberic one: https://pandas.pydata.org/docs/reference/api/pandas.factorize.html\n",
    "features[features.select_dtypes(exclude='number').columns] = features.select_dtypes(exclude='number').apply(lambda x: pd.factorize(x)[0])\n",
    "features"
   ]
  },
  {
   "cell_type": "code",
   "execution_count": null,
   "metadata": {},
   "outputs": [],
   "source": [
    "# Split the data into training and testing sets\n",
    "X_train, X_test, y_train, y_test = train_test_split(features, labels, test_size=0.2, random_state=42)"
   ]
  },
  {
   "cell_type": "code",
   "execution_count": null,
   "metadata": {},
   "outputs": [],
   "source": [
    "# Decision Tree Classifier\n",
    "start_train = time.time()\n",
    "dt_classifier = DecisionTreeClassifier()\n",
    "dt_classifier.fit(X_train, y_train)\n",
    "train_time = time.time() - start_train\n",
    "print(f\"Decision Tree Classifier training time: {train_time:.4f} seconds\")\n",
    "\n",
    "# Make predictions on the test set\n",
    "start_test = time.time()\n",
    "dt_predictions = dt_classifier.predict(X_test)\n",
    "test_time = time.time() - start_test\n",
    "print(f\"Decision Tree Classifier test time: {test_time:.4f} seconds\")\n",
    "\n",
    "# Evaluate Decision Tree Classifier\n",
    "dt_acc = accuracy_score(y_test, dt_predictions)\n",
    "print(f\"Single Decision Tree Accuracy: {dt_acc:.4f}\")\n",
    "print(\"Classification Report:\\n\", classification_report(y_test, dt_predictions))"
   ]
  },
  {
   "cell_type": "code",
   "execution_count": null,
   "metadata": {},
   "outputs": [],
   "source": [
    "# Random Forest Classifier\n",
    "start_train = time.time()\n",
    "rf_classifier = RandomForestClassifier(n_estimators=100)\n",
    "rf_classifier.fit(X_train, y_train)\n",
    "train_time = time.time() - start_train\n",
    "print(f\"Random Forest Classifier training time: {train_time:.4f} seconds\")\n",
    "\n",
    "# Make predictions on the test set\n",
    "start_test = time.time()\n",
    "rf_predictions = rf_classifier.predict(X_test)\n",
    "test_time = time.time() - start_test\n",
    "print(f\"Random Forest Classifier test time: {test_time:.4f} seconds\")\n",
    "\n",
    "# Evaluate Random Forest Classifier\n",
    "rf_acc = accuracy_score(y_test, rf_predictions)\n",
    "print(f\"Random Forest Classifier Accuracy: {rf_acc:.4f}\")\n",
    "print(\"Classification Report:\\n\", classification_report(y_test, rf_predictions))"
   ]
  },
  {
   "cell_type": "code",
   "execution_count": null,
   "metadata": {},
   "outputs": [],
   "source": [
    "# Get each tree from the RF classifier\n",
    "individual_trees = rf_classifier.estimators_\n",
    "\n",
    "# Evaluate each tree and store accuracies in a list\n",
    "tree_accs = []\n",
    "for tree in individual_trees:\n",
    "    tree_pred = tree.predict(X_test)\n",
    "    tree_acc = accuracy_score(y_test, tree_pred)\n",
    "    tree_accs.append(tree_acc)\n",
    "sorted_trees = sorted(tree_accs, key=lambda x: x, reverse=True)"
   ]
  },
  {
   "cell_type": "code",
   "execution_count": null,
   "metadata": {},
   "outputs": [],
   "source": [
    "sorted_trees[:10]"
   ]
  },
  {
   "cell_type": "code",
   "execution_count": null,
   "metadata": {},
   "outputs": [],
   "source": [
    "sorted_trees[-10:]"
   ]
  },
  {
   "cell_type": "code",
   "execution_count": null,
   "metadata": {},
   "outputs": [],
   "source": [
    "# plot the distribution\n",
    "plt.hist(sorted_trees, edgecolor='black', bins=10)\n",
    "\n",
    "plt.xlabel('Accuracy Score')\n",
    "plt.ylabel('Num Trees')\n",
    "plt.title('Accuracy Score for all trees in the Random Forest')\n",
    "plt.show()"
   ]
  },
  {
   "cell_type": "code",
   "execution_count": null,
   "metadata": {},
   "outputs": [],
   "source": [
    "columns = [\"N_estimators\", \"Max_Depth\", \"Train_Time\", \"Test_Time\", \"Accuracy\"]\n",
    "df = pd.DataFrame(columns = columns)\n",
    "for x in [10, 20, 50, 100, 200, 400]:\n",
    "    for z in [10, 20]:\n",
    "        # Decision Tree Classifier\n",
    "        start_train = time.time()\n",
    "        dt_classifier = RandomForestClassifier(n_estimators=x, max_depth=z)\n",
    "        dt_classifier.fit(X_train, y_train)\n",
    "        train_time = time.time() - start_train\n",
    "        # Make predictions on the test set\n",
    "        start_test = time.time()\n",
    "        dt_predictions = dt_classifier.predict(X_test)\n",
    "        test_time = time.time() - start_test\n",
    "        # Evaluate Decision Tree Classifier\n",
    "        dt_acc = accuracy_score(y_test, dt_predictions)\n",
    "        \n",
    "        data = [x, z, train_time, test_time, dt_acc]\n",
    "        row = pd.DataFrame([data], columns=columns)\n",
    "        df = pd.concat([df, row], ignore_index=True)\n"
   ]
  },
  {
   "cell_type": "code",
   "execution_count": null,
   "metadata": {},
   "outputs": [],
   "source": [
    "df"
   ]
  },
  {
   "cell_type": "code",
   "execution_count": null,
   "metadata": {},
   "outputs": [],
   "source": [
    "df.to_csv('results.csv', index=False)"
   ]
  }
 ],
 "metadata": {
  "kernelspec": {
   "display_name": "Python 3",
   "language": "python",
   "name": "python3"
  },
  "language_info": {
   "codemirror_mode": {
    "name": "ipython",
    "version": 3
   },
   "file_extension": ".py",
   "mimetype": "text/x-python",
   "name": "python",
   "nbconvert_exporter": "python",
   "pygments_lexer": "ipython3",
   "version": "3.10.0"
  }
 },
 "nbformat": 4,
 "nbformat_minor": 2
}
